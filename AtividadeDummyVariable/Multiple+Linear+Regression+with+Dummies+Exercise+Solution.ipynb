 "cells": [
    "Real estate is one of those examples that every regression course goes through as it is extremely easy to understand and there is a (almost always) certain causal relationship to be found.\n",
