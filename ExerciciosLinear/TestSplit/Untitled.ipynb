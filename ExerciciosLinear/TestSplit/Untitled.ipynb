{
 "cells": [
  {
   "cell_type": "code",
   "execution_count": 1,
   "id": "181d5371",
   "metadata": {},
   "outputs": [],
   "source": [
    "import numpy as np\n",
    "from sklearn.model_selection import train_test_split"
   ]
  },
  {
   "cell_type": "code",
   "execution_count": 2,
   "id": "c70da6aa",
   "metadata": {},
   "outputs": [],
   "source": [
    "a = np.arange(1,101)\n",
    "b = np.arange(501,600)"
   ]
  },
  {
   "cell_type": "code",
   "execution_count": 3,
   "id": "624167cb",
   "metadata": {},
   "outputs": [
    {
     "data": {
      "text/plain": [
       "[array([ 29,  38,  84,  19,  54,  22,  87,  15,  65,  62,  32,   3,  47,\n",
       "         93,  10,  51,  14,  17,  35,  41,  59,  13,  80,  98,  78,  12,\n",
       "         70,  97,  50,  81,  83,  94,  79,  76,  28,  82,  25,   5,  39,\n",
       "         16,  31,  45,  96,  88,  74,   2,  36,  52, 100,  90,   8,  95,\n",
       "         91,  85,  63,  60,  58,  21,  53,  69,  77,   4,  61,  33,  86,\n",
       "         71,  66,  92,  57,  24,  37,  27,  30,  49,  43]),\n",
       " array([75, 67, 44, 26, 11,  7, 89,  9, 56, 55, 48, 34, 18, 20, 42,  6, 46,\n",
       "        68, 99, 73,  1, 23, 40, 72, 64])]"
      ]
     },
     "execution_count": 3,
     "metadata": {},
     "output_type": "execute_result"
    }
   ],
   "source": [
    "train_test_split(a)"
   ]
  },
  {
   "cell_type": "code",
   "execution_count": 10,
   "id": "f14e092f",
   "metadata": {},
   "outputs": [],
   "source": [
    "a_train,a_test,b_train,b_test = train_test_split(a,btest_size = 0.2,random_state = 42)"
   ]
  },
  {
   "cell_type": "code",
   "execution_count": 11,
   "id": "32572d89",
   "metadata": {},
   "outputs": [
    {
     "data": {
      "text/plain": [
       "((80,), (20,))"
      ]
     },
     "execution_count": 11,
     "metadata": {},
     "output_type": "execute_result"
    }
   ],
   "source": [
    "a_train.shape, a_test.shape"
   ]
  },
  {
   "cell_type": "code",
   "execution_count": null,
   "id": "81aec65b",
   "metadata": {},
   "outputs": [],
   "source": []
  },
  {
   "cell_type": "code",
   "execution_count": null,
   "id": "f58b9fe3",
   "metadata": {},
   "outputs": [],
   "source": []
  }
 ],
 "metadata": {
  "kernelspec": {
   "display_name": "Python 3 (ipykernel)",
   "language": "python",
   "name": "python3"
  },
  "language_info": {
   "codemirror_mode": {
    "name": "ipython",
    "version": 3
   },
   "file_extension": ".py",
   "mimetype": "text/x-python",
   "name": "python",
   "nbconvert_exporter": "python",
   "pygments_lexer": "ipython3",
   "version": "3.11.7"
  }
 },
 "nbformat": 4,
 "nbformat_minor": 5
}
