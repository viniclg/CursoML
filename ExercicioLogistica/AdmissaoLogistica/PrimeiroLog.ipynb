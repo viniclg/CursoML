{
 "cells": [
  {
   "cell_type": "markdown",
   "id": "47e306a9",
   "metadata": {},
   "source": [
    "## Importar"
   ]
  },
  {
   "cell_type": "code",
   "execution_count": 1,
   "id": "dea605a2",
   "metadata": {},
   "outputs": [],
   "source": [
    "import numpy as np\n",
    "import pandas as pd\n",
    "import statsmodels.api as sm\n",
    "import matplotlib.pyplot as plt\n",
    "from sklearn.linear_model import LinearRegression\n",
    "import seaborn as sns\n",
    "from sklearn.feature_selection import f_regression\n",
    "sns.set()"
   ]
  },
  {
   "cell_type": "markdown",
   "id": "cd144c30",
   "metadata": {},
   "source": [
    "## Carregar data"
   ]
  },
  {
   "cell_type": "code",
   "execution_count": 2,
   "id": "ee19b4ed",
   "metadata": {},
   "outputs": [],
   "source": [
    "raw_data = pd.read_csv('2.01.+Admittance.csv')"
   ]
  },
  {
   "cell_type": "code",
   "execution_count": 3,
   "id": "d9ce77c9",
   "metadata": {},
   "outputs": [
    {
     "data": {
      "text/html": [
       "<div>\n",
       "<style scoped>\n",
       "    .dataframe tbody tr th:only-of-type {\n",
       "        vertical-align: middle;\n",
       "    }\n",
       "\n",
       "    .dataframe tbody tr th {\n",
       "        vertical-align: top;\n",
       "    }\n",
       "\n",
       "    .dataframe thead th {\n",
       "        text-align: right;\n",
       "    }\n",
       "</style>\n",
       "<table border=\"1\" class=\"dataframe\">\n",
       "  <thead>\n",
       "    <tr style=\"text-align: right;\">\n",
       "      <th></th>\n",
       "      <th>SAT</th>\n",
       "      <th>Admitted</th>\n",
       "    </tr>\n",
       "  </thead>\n",
       "  <tbody>\n",
       "    <tr>\n",
       "      <th>0</th>\n",
       "      <td>1363</td>\n",
       "      <td>0</td>\n",
       "    </tr>\n",
       "    <tr>\n",
       "      <th>1</th>\n",
       "      <td>1792</td>\n",
       "      <td>1</td>\n",
       "    </tr>\n",
       "    <tr>\n",
       "      <th>2</th>\n",
       "      <td>1954</td>\n",
       "      <td>1</td>\n",
       "    </tr>\n",
       "    <tr>\n",
       "      <th>3</th>\n",
       "      <td>1653</td>\n",
       "      <td>0</td>\n",
       "    </tr>\n",
       "    <tr>\n",
       "      <th>4</th>\n",
       "      <td>1593</td>\n",
       "      <td>0</td>\n",
       "    </tr>\n",
       "    <tr>\n",
       "      <th>...</th>\n",
       "      <td>...</td>\n",
       "      <td>...</td>\n",
       "    </tr>\n",
       "    <tr>\n",
       "      <th>163</th>\n",
       "      <td>1722</td>\n",
       "      <td>1</td>\n",
       "    </tr>\n",
       "    <tr>\n",
       "      <th>164</th>\n",
       "      <td>1750</td>\n",
       "      <td>1</td>\n",
       "    </tr>\n",
       "    <tr>\n",
       "      <th>165</th>\n",
       "      <td>1555</td>\n",
       "      <td>0</td>\n",
       "    </tr>\n",
       "    <tr>\n",
       "      <th>166</th>\n",
       "      <td>1524</td>\n",
       "      <td>0</td>\n",
       "    </tr>\n",
       "    <tr>\n",
       "      <th>167</th>\n",
       "      <td>1461</td>\n",
       "      <td>0</td>\n",
       "    </tr>\n",
       "  </tbody>\n",
       "</table>\n",
       "<p>168 rows × 2 columns</p>\n",
       "</div>"
      ],
      "text/plain": [
       "      SAT  Admitted\n",
       "0    1363         0\n",
       "1    1792         1\n",
       "2    1954         1\n",
       "3    1653         0\n",
       "4    1593         0\n",
       "..    ...       ...\n",
       "163  1722         1\n",
       "164  1750         1\n",
       "165  1555         0\n",
       "166  1524         0\n",
       "167  1461         0\n",
       "\n",
       "[168 rows x 2 columns]"
      ]
     },
     "execution_count": 3,
     "metadata": {},
     "output_type": "execute_result"
    }
   ],
   "source": [
    "data = raw_data.copy()\n",
    "data['Admitted'] = data['Admitted'].map({'Yes':1,'No':0})\n",
    "data"
   ]
  },
  {
   "cell_type": "markdown",
   "id": "18c8b23c",
   "metadata": {},
   "source": [
    "## Variaveis"
   ]
  },
  {
   "cell_type": "code",
   "execution_count": 4,
   "id": "f106549f",
   "metadata": {},
   "outputs": [],
   "source": [
    "y = data['Admitted']\n",
    "x = data['SAT']"
   ]
  },
  {
   "cell_type": "code",
   "execution_count": 5,
   "id": "68ecae6e",
   "metadata": {},
   "outputs": [
    {
     "data": {
      "image/png": "[encoded data removed]",
      "text/plain": [
       "<Figure size 640x480 with 1 Axes>"
      ]
     },
     "metadata": {},
     "output_type": "display_data"
    }
   ],
   "source": [
    "plt.scatter(x,y,color='C0')\n",
    "plt.xlabel('SAT',fontsize=20)\n",
    "plt.ylabel('Admitted',fontsize=20)\n",
    "plt.show()"
   ]
  },
  {
   "cell_type": "markdown",
   "id": "ed659d3a",
   "metadata": {},
   "source": [
    "## Regressão Logistica"
   ]
  },
  {
   "cell_type": "code",
   "execution_count": 6,
   "id": "685f2ea4",
   "metadata": {},
   "outputs": [],
   "source": [
    "x = sm.add_constant(x)\n",
    "reg_log = sm.Logit(y,x)"
   ]
  },
  {
   "cell_type": "code",
   "execution_count": 7,
   "id": "ff69fb09",
   "metadata": {},
   "outputs": [
    {
     "name": "stdout",
     "output_type": "stream",
     "text": [
      "Optimization terminated successfully.\n",
      "         Current function value: 0.137766\n",
      "         Iterations 10\n"
     ]
    }
   ],
   "source": [
    "result_log = reg_log.fit()"
   ]
  },
  {
   "cell_type": "code",
   "execution_count": 8,
   "id": "92859671",
   "metadata": {},
   "outputs": [
    {
     "data": {
      "text/html": [
       "<table class=\"simpletable\">\n",
       "<caption>Logit Regression Results</caption>\n",
       "<tr>\n",
       "  <th>Dep. Variable:</th>       <td>Admitted</td>     <th>  No. Observations:  </th>  <td>   168</td>  \n",
       "</tr>\n",
       "<tr>\n",
       "  <th>Model:</th>                 <td>Logit</td>      <th>  Df Residuals:      </th>  <td>   166</td>  \n",
       "</tr>\n",
       "<tr>\n",
       "  <th>Method:</th>                 <td>MLE</td>       <th>  Df Model:          </th>  <td>     1</td>  \n",
       "</tr>\n",
       "<tr>\n",
       "  <th>Date:</th>            <td>Mon, 10 Jun 2024</td> <th>  Pseudo R-squ.:     </th>  <td>0.7992</td>  \n",
       "</tr>\n",
       "<tr>\n",
       "  <th>Time:</th>                <td>12:48:03</td>     <th>  Log-Likelihood:    </th> <td> -23.145</td> \n",
       "</tr>\n",
       "<tr>\n",
       "  <th>converged:</th>             <td>True</td>       <th>  LL-Null:           </th> <td> -115.26</td> \n",
       "</tr>\n",
       "<tr>\n",
       "  <th>Covariance Type:</th>     <td>nonrobust</td>    <th>  LLR p-value:       </th> <td>5.805e-42</td>\n",
       "</tr>\n",
       "</table>\n",
       "<table class=\"simpletable\">\n",
       "<tr>\n",
       "    <td></td>       <th>coef</th>     <th>std err</th>      <th>z</th>      <th>P>|z|</th>  <th>[0.025</th>    <th>0.975]</th>  \n",
       "</tr>\n",
       "<tr>\n",
       "  <th>const</th> <td>  -69.9128</td> <td>   15.737</td> <td>   -4.443</td> <td> 0.000</td> <td> -100.756</td> <td>  -39.070</td>\n",
       "</tr>\n",
       "<tr>\n",
       "  <th>SAT</th>   <td>    0.0420</td> <td>    0.009</td> <td>    4.454</td> <td> 0.000</td> <td>    0.024</td> <td>    0.060</td>\n",
       "</tr>\n",
       "</table><br/><br/>Possibly complete quasi-separation: A fraction 0.27 of observations can be<br/>perfectly predicted. This might indicate that there is complete<br/>quasi-separation. In this case some parameters will not be identified."
      ],
      "text/latex": [
       "\\begin{center}\n",
       "\\begin{tabular}{lclc}\n",
       "\\toprule\n",
       "\\textbf{Dep. Variable:}   &     Admitted     & \\textbf{  No. Observations:  } &      168    \\\\\n",
       "\\textbf{Model:}           &      Logit       & \\textbf{  Df Residuals:      } &      166    \\\\\n",
       "\\textbf{Method:}          &       MLE        & \\textbf{  Df Model:          } &        1    \\\\\n",
       "\\textbf{Date:}            & Mon, 10 Jun 2024 & \\textbf{  Pseudo R-squ.:     } &   0.7992    \\\\\n",
       "\\textbf{Time:}            &     12:48:03     & \\textbf{  Log-Likelihood:    } &   -23.145   \\\\\n",
       "\\textbf{converged:}       &       True       & \\textbf{  LL-Null:           } &   -115.26   \\\\\n",
       "\\textbf{Covariance Type:} &    nonrobust     & \\textbf{  LLR p-value:       } & 5.805e-42   \\\\\n",
       "\\bottomrule\n",
       "\\end{tabular}\n",
       "\\begin{tabular}{lcccccc}\n",
       "               & \\textbf{coef} & \\textbf{std err} & \\textbf{z} & \\textbf{P$> |$z$|$} & \\textbf{[0.025} & \\textbf{0.975]}  \\\\\n",
       "\\midrule\n",
       "\\textbf{const} &     -69.9128  &       15.737     &    -4.443  &         0.000        &     -100.756    &      -39.070     \\\\\n",
       "\\textbf{SAT}   &       0.0420  &        0.009     &     4.454  &         0.000        &        0.024    &        0.060     \\\\\n",
       "\\bottomrule\n",
       "\\end{tabular}\n",
       "%\\caption{Logit Regression Results}\n",
       "\\end{center}\n",
       "\n",
       "Possibly complete quasi-separation: A fraction 0.27 of observations can be \\newline\n",
       " perfectly predicted. This might indicate that there is complete \\newline\n",
       " quasi-separation. In this case some parameters will not be identified."
      ],
      "text/plain": [
       "<class 'statsmodels.iolib.summary.Summary'>\n",
       "\"\"\"\n",
       "                           Logit Regression Results                           \n",
       "==============================================================================\n",
       "Dep. Variable:               Admitted   No. Observations:                  168\n",
       "Model:                          Logit   Df Residuals:                      166\n",
       "Method:                           MLE   Df Model:                            1\n",
       "Date:                Mon, 10 Jun 2024   Pseudo R-squ.:                  0.7992\n",
       "Time:                        12:48:03   Log-Likelihood:                -23.145\n",
       "converged:                       True   LL-Null:                       -115.26\n",
       "Covariance Type:            nonrobust   LLR p-value:                 5.805e-42\n",
       "==============================================================================\n",
       "                 coef    std err          z      P>|z|      [0.025      0.975]\n",
       "------------------------------------------------------------------------------\n",
       "const        -69.9128     15.737     -4.443      0.000    -100.756     -39.070\n",
       "SAT            0.0420      0.009      4.454      0.000       0.024       0.060\n",
       "==============================================================================\n",
       "\n",
       "Possibly complete quasi-separation: A fraction 0.27 of observations can be\n",
       "perfectly predicted. This might indicate that there is complete\n",
       "quasi-separation. In this case some parameters will not be identified.\n",
       "\"\"\""
      ]
     },
     "execution_count": 8,
     "metadata": {},
     "output_type": "execute_result"
    }
   ],
   "source": [
    "result_log.summary()"
   ]
  },
  {
   "cell_type": "markdown",
   "id": "e0194b8e",
   "metadata": {},
   "source": [
    "## ACC"
   ]
  },
  {
   "cell_type": "code",
   "execution_count": 9,
   "id": "cbbad296",
   "metadata": {},
   "outputs": [
    {
     "data": {
      "text/plain": [
       "array([3.17509804e-06, 9.95320711e-01, 9.99994789e-01, 3.82545559e-01,\n",
       "       4.74688306e-02, 9.78241219e-01, 9.90489815e-01, 9.99913075e-01,\n",
       "       9.99932439e-01, 2.80555331e-02, 9.99693576e-01, 9.99883365e-01,\n",
       "       4.95824098e-01, 3.31130788e-06, 7.68780343e-01, 9.99588875e-01,\n",
       "       2.11008877e-01, 2.18086901e-01, 2.32751342e-01, 9.99666730e-01,\n",
       "       9.99998697e-01, 9.99999144e-01, 3.78484857e-05, 1.40058570e-03,\n",
       "       9.11780281e-01, 9.99878362e-01, 2.18086901e-01, 9.96920696e-01,\n",
       "       9.99571245e-01, 9.84988046e-01, 1.86723145e-04, 6.09532977e-01,\n",
       "       4.12717426e-01, 9.99999674e-01, 9.99588875e-01, 9.99781012e-01,\n",
       "       4.95824098e-01, 9.99836790e-01, 3.92515016e-01, 1.11951035e-05,\n",
       "       3.72881439e-02, 1.97361936e-01, 9.99986307e-01, 4.26043595e-06,\n",
       "       9.97797608e-01, 2.70466415e-05, 9.83006220e-01, 3.81272805e-04,\n",
       "       5.56342322e-04, 1.28281107e-02, 7.78868807e-03, 9.99999908e-01,\n",
       "       7.97292345e-01, 6.06406209e-03, 9.99987928e-01, 7.99999369e-06,\n",
       "       5.58561299e-01, 9.50997566e-01, 2.18086901e-01, 9.91249418e-01,\n",
       "       8.12010613e-03, 8.93361262e-01, 9.99982382e-01, 9.99424768e-01,\n",
       "       9.93987534e-01, 6.53414596e-05, 8.70110288e-06, 2.41557378e-03,\n",
       "       9.99997843e-01, 6.53414596e-05, 8.89292965e-01, 2.18086901e-01,\n",
       "       2.20878399e-04, 9.95696135e-01, 9.99666730e-01, 9.99994565e-01,\n",
       "       2.72485399e-04, 4.85326998e-01, 9.99962475e-01, 9.99998851e-01,\n",
       "       5.81606838e-03, 9.97605054e-01, 9.99996852e-01, 6.48708934e-01,\n",
       "       9.99999688e-01, 9.99999598e-01, 3.22323161e-04, 9.99998177e-01,\n",
       "       9.94233430e-01, 7.20996094e-01, 5.99490987e-01, 3.97622735e-04,\n",
       "       9.50997566e-01, 9.11780281e-01, 7.78368880e-04, 9.99996576e-01,\n",
       "       9.99448417e-01, 8.12010613e-03, 9.84988046e-01, 8.80747681e-01,\n",
       "       9.90489815e-01, 3.67195895e-03, 9.92592781e-01, 2.69325537e-02,\n",
       "       2.97843145e-03, 9.91606351e-01, 9.87797140e-01, 9.98775594e-01,\n",
       "       4.50998879e-04, 2.20878399e-04, 4.38114775e-02, 5.16820085e-01,\n",
       "       1.51356511e-04, 9.99987928e-01, 1.60448635e-01, 9.39130917e-07,\n",
       "       9.15101099e-01, 3.50561492e-04, 4.74842828e-01, 9.99740956e-01,\n",
       "       9.99988901e-01, 2.02101782e-02, 1.40058570e-03, 5.29641245e-05,\n",
       "       9.99926518e-01, 8.12010613e-03, 9.61493870e-01, 7.45626764e-01,\n",
       "       7.20996094e-01, 9.40229806e-01, 5.99490987e-01, 3.50561492e-04,\n",
       "       9.99996276e-01, 3.82888121e-03, 7.15694599e-04, 1.08890584e-03,\n",
       "       9.99997751e-01, 8.23391338e-02, 2.48673397e-05, 1.08656392e-02,\n",
       "       9.98611387e-01, 9.82290106e-01, 7.03787258e-01, 9.89664961e-01,\n",
       "       9.98874143e-01, 1.51396041e-02, 1.52314535e-03, 5.03991985e-06,\n",
       "       1.63383507e-05, 8.29130993e-01, 9.99995209e-01, 9.99987410e-01,\n",
       "       9.99124740e-01, 9.99932439e-01, 9.99087226e-01, 5.80195312e-04,\n",
       "       9.99999865e-01, 9.99588875e-01, 9.99886535e-03, 9.99999674e-01,\n",
       "       4.74688306e-02, 9.99987928e-01, 9.97605054e-01, 9.18308113e-01,\n",
       "       9.73291832e-01, 9.99886535e-03, 2.73909368e-03, 1.94731925e-04])"
      ]
     },
     "execution_count": 9,
     "metadata": {},
     "output_type": "execute_result"
    }
   ],
   "source": [
    "result_log.predict()"
   ]
  },
  {
   "cell_type": "code",
   "execution_count": 10,
   "id": "35bb8f04",
   "metadata": {},
   "outputs": [
    {
     "data": {
      "text/plain": [
       "array([0, 1, 1, 0, 0, 1, 1, 1, 1, 0, 1, 1, 1, 0, 0, 1, 0, 0, 1, 1, 1, 1,\n",
       "       0, 0, 1, 1, 1, 1, 1, 1, 0, 1, 0, 1, 1, 1, 0, 1, 0, 0, 0, 1, 1, 0,\n",
       "       1, 0, 1, 0, 0, 0, 0, 1, 0, 0, 1, 0, 0, 1, 0, 1, 0, 1, 1, 1, 1, 0,\n",
       "       0, 0, 1, 0, 1, 1, 0, 1, 1, 1, 0, 1, 1, 1, 0, 1, 1, 0, 1, 1, 0, 1,\n",
       "       1, 1, 0, 0, 1, 1, 0, 1, 1, 0, 1, 1, 1, 0, 1, 0, 0, 1, 1, 1, 0, 0,\n",
       "       0, 0, 0, 1, 0, 0, 1, 0, 1, 1, 1, 0, 0, 0, 1, 0, 1, 0, 1, 1, 1, 0,\n",
       "       1, 0, 0, 0, 1, 0, 0, 0, 1, 1, 1, 1, 1, 0, 0, 0, 0, 1, 1, 1, 1, 1,\n",
       "       1, 0, 1, 1, 0, 1, 0, 1, 1, 1, 1, 0, 0, 0], dtype=int64)"
      ]
     },
     "execution_count": 10,
     "metadata": {},
     "output_type": "execute_result"
    }
   ],
   "source": [
    "np.array(data['Admitted'])"
   ]
  },
  {
   "cell_type": "code",
   "execution_count": 11,
   "id": "cc946675",
   "metadata": {},
   "outputs": [
    {
     "data": {
      "text/plain": [
       "array([[67.,  7.],\n",
       "       [ 7., 87.]])"
      ]
     },
     "execution_count": 11,
     "metadata": {},
     "output_type": "execute_result"
    }
   ],
   "source": [
    "result_log.pred_table()"
   ]
  },
  {
   "cell_type": "code",
   "execution_count": null,
   "id": "051e9b69",
   "metadata": {},
   "outputs": [],
   "source": []
  }
 ],
 "metadata": {
  "kernelspec": {
   "display_name": "Python 3 (ipykernel)",
   "language": "python",
   "name": "python3"
  },
  "language_info": {
   "codemirror_mode": {
    "name": "ipython",
    "version": 3
   },
   "file_extension": ".py",
   "mimetype": "text/x-python",
   "name": "python",
   "nbconvert_exporter": "python",
   "pygments_lexer": "ipython3",
   "version": "3.11.7"
  }
 },
 "nbformat": 4,
 "nbformat_minor": 5
}
